{
 "cells": [
  {
   "cell_type": "code",
   "execution_count": 32,
   "id": "dcf979c9",
   "metadata": {
    "scrolled": true
   },
   "outputs": [
    {
     "name": "stdout",
     "output_type": "stream",
     "text": [
      "calculating scores...\n",
      "computing bert embedding.\n"
     ]
    },
    {
     "data": {
      "application/vnd.jupyter.widget-view+json": {
       "model_id": "01d218f3806c4008838514f18d4d9c2e",
       "version_major": 2,
       "version_minor": 0
      },
      "text/plain": [
       "  0%|          | 0/1 [00:00<?, ?it/s]"
      ]
     },
     "metadata": {},
     "output_type": "display_data"
    },
    {
     "name": "stdout",
     "output_type": "stream",
     "text": [
      "computing greedy matching.\n"
     ]
    },
    {
     "data": {
      "application/vnd.jupyter.widget-view+json": {
       "model_id": "42f4199e8d4a4359a7dade6aa24cc7e8",
       "version_major": 2,
       "version_minor": 0
      },
      "text/plain": [
       "  0%|          | 0/1 [00:00<?, ?it/s]"
      ]
     },
     "metadata": {},
     "output_type": "display_data"
    },
    {
     "name": "stdout",
     "output_type": "stream",
     "text": [
      "done in 0.10 seconds, 10.13 sentences/sec\n",
      "Precision: 0.9157\n",
      "Recall: 0.9158\n",
      "F1-Score: 0.9158\n"
     ]
    }
   ],
   "source": [
    "from bert_score import score\n",
    "\n",
    "# Prediksi dan Referensi\n",
    "predictions = [\"Hal ini menyebabkan lonjakan harga pada tokennya menjadi US$0,016 sebelum stabil di US$0,015 pada saat penulisan.Token yang di-burnmerupakan bagian dari token yang tidak diklaim dariairdropNOTyang baru saja selesai pada 16 Juni.Burnini mengurangi pasokan yang beredar, menciptakan kelangkaan dan berpotensi meningkatkan permintaan.Distribusi Token yang Tidak Diklaim dan Pengembangan Masa DepanCryptopolitanmelaporkan bahwa, pengguna mengklaim lebih dari 90 persen dari total pasokan token selamaairdrop.Sekitar US$4,2 juta token yang tidak diklaim akan didistribusikan kepada pengguna Notcoin dilevelGold dan Platinum, sementara sisanya akan digunakan untuk proyek pengembangan di masa mendatang.Distribusi strategis ini bertujuan untuk memberi insentif kepada pengguna dilevelyang lebih tinggi dan mendukung upaya pengembangan yang sedang berlangsung.Burntoken adalah strategi umum di dunia kripto yang secara teoritis mengurangi pasokan yang beredar dan menciptakan kelangkaan. Hal ini dapat meningkatkan harga jika permintaan tetap kuat.Burntoken Notcoin baru-baru ini tampaknya memiliki efek ini, meskipun harga token mengalami volatilitas signifikan.Setelah turun 45 persen dari puncaknya di US$0,0289, harga token itu telah lebih dari dua kali lipat sejak Mei dan mencapai kapitalisasi pasar sebesar US$1,5 milyar.Langkah Strategis NotcoinPendiri Notcoin, Sasha Plotinov, baru-baru ini mengungkapkan rencana ambisius untuk mengembangkan Notcoin melampaui akartap-to-earn-nya.Dalam sebuah wawancara, Plotinov merinci strategi komprehensif empat tahun untuk menjadikan Notcoin sebagai pusat inovasi dalam ekosistem Telegram.Pusat dari strategi ini adalah pengembanganaplikasiNotcoin, yang saat ini sedang dalam proses. Itu keren, tapi kami baru saja memulai,” ungkap proyek tersebut dalam sebuah pesan di Telegram.Pesan ini mengisyaratkan perkembangan signifikan yang akan datang yang dapat mendorong pertumbuhan Notcoin lebih jauh dari statusnya saat ini.Ekosistem Kripto Telegram yang BerkembangKenaikan tersebut mencerminkan ekspansi ekosistem kripto Telegram. Dengan lebih dari 900 juta pengguna bulanan, Telegram telah memainkan peran penting dalam adopsi kriptomainstream, terutama melalui integrasinya dengan The Open Network (TON).Telegram secara tradisional menjadi tempat untuk fitur sepertitrading botdan baru-baru ini telah memadukanstablecoinUSDT, memperkenalkangameblockchain dan meluncurkan Telegram Stars, mata uang dalam aplikasi untuk pembelian.Integrasi ini telah memperkuat jaringan TON, meningkatkan reputasinya di antaraplatformkontrak pintar lainnya.Data terbaru dariplatformanalitik blockchain Artemis mengungkapkan bahwa TON untuk sementara waktu melampaui Ethereum dalam hal alamat aktif harian awal bulan ini, menyoroti tingkat aktivitasnya yang terus berkembang\"]\n",
    "references = [\"Notcoin, pengembanggame tap-to-earnpopular di Telegram, baru-baru ini telah membakar token NOT senilai US$3 juta. Hal ini menyebabkan lonjakan harga pada tokennya menjadi US$0,016 sebelum stabil di US$0,015 pada saat penulisan.Token yang di-burnmerupakan bagian dari token yang tidak diklaim dariairdropNOTyang baru saja selesai pada 16 Juni.Burnini mengurangi pasokan yang beredar, menciptakan kelangkaan dan berpotensi meningkatkan permintaan.Distribusi Token yang Tidak Diklaim dan Pengembangan Masa DepanCryptopolitanmelaporkan bahwa, pengguna mengklaim lebih dari 90 persen dari total pasokan token selamaairdrop.Sekitar US$4,2 juta token yang tidak diklaim akan didistribusikan kepada pengguna Notcoin dilevelGold dan Platinum, sementara sisanya akan digunakan untuk proyek pengembangan di masa mendatang.Distribusi strategis ini bertujuan untuk memberi insentif kepada pengguna dilevelyang lebih tinggi dan mendukung upaya pengembangan yang sedang berlangsung.Burntoken adalah strategi umum di dunia kripto yang secara teoritis mengurangi pasokan yang beredar dan menciptakan kelangkaan. Hal ini dapat meningkatkan harga jika permintaan tetap kuat.Burntoken Notcoin baru-baru ini tampaknya memiliki efek ini, meskipun harga token mengalami volatilitas signifikan.Setelah turun 45 persen dari puncaknya di US$0,0289, harga token itu telah lebih dari dua kali lipat sejak Mei dan mencapai kapitalisasi pasar sebesar US$1,5 milyar.Langkah Strategis NotcoinPendiri Notcoin, Sasha Plotinov, baru-baru ini mengungkapkan rencana ambisius untuk mengembangkan Notcoin melampaui akartap-to-earn-nya.Dalam sebuah wawancara, Plotinov merinci strategi komprehensif empat tahun untuk menjadikan Notcoin sebagai pusat inovasi dalam ekosistem Telegram.Pusat dari strategi ini adalah pengembanganaplikasiNotcoin, yang saat ini sedang dalam proses. Visi Plotinov mencerminkan sentimen yang lebih luas dari tim proyek, menekankan bahwa mereka baru saja memulai.“Kami melihat bagaimana Notcoin menciptakan segmen aplikasi penambangan baru di Telegram, secara dramatis meningkatkan pertumbuhan ekosistem TON dan menjadi pemain utama di dunia kripto. Itu keren, tapi kami baru saja memulai,” ungkap proyek tersebut dalam sebuah pesan di Telegram.Pesan ini mengisyaratkan perkembangan signifikan yang akan datang yang dapat mendorong pertumbuhan Notcoin lebih jauh dari statusnya saat ini.Ekosistem Kripto Telegram yang BerkembangKenaikan tersebut mencerminkan ekspansi ekosistem kripto Telegram. Dengan lebih dari 900 juta pengguna bulanan, Telegram telah memainkan peran penting dalam adopsi kriptomainstream, terutama melalui integrasinya dengan The Open Network (TON).Telegram secara tradisional menjadi tempat untuk fitur sepertitrading botdan baru-baru ini telah memadukanstablecoinUSDT, memperkenalkangameblockchain dan meluncurkan Telegram Stars, mata uang dalam aplikasi untuk pembelian.Integrasi ini telah memperkuat jaringan TON, meningkatkan reputasinya di antaraplatformkontrak pintar lainnya.Data terbaru dariplatformanalitik blockchain Artemis mengungkapkan bahwa TON untuk sementara waktu melampaui Ethereum dalam hal alamat aktif harian awal bulan ini, menyoroti tingkat aktivitasnya yang terus berkembang.\"]\n",
    "\n",
    "# Menghitung BERTScore\n",
    "P, R, F1 = score(predictions, references, lang=\"id\", verbose=True)\n",
    "\n",
    "print(f\"Precision: {P.mean().item():.4f}\")\n",
    "print(f\"Recall: {R.mean().item():.4f}\")\n",
    "print(f\"F1-Score: {F1.mean().item():.4f}\")"
   ]
  },
  {
   "cell_type": "code",
   "execution_count": 31,
   "id": "8a01b4d1",
   "metadata": {},
   "outputs": [
    {
     "data": {
      "text/plain": [
       "78.77613199401198"
      ]
     },
     "execution_count": 31,
     "metadata": {},
     "output_type": "execute_result"
    }
   ],
   "source": [
    "from sklearn.feature_extraction.text import CountVectorizer\n",
    "from sklearn.metrics.pairwise import cosine_similarity\n",
    "\n",
    "# Define the two summaries\n",
    "summary_model = \"\"\"Hal ini menyebabkan lonjakan harga pada tokennya menjadi US$0,016 sebelum stabil di US$0,015 pada saat penulisan.Token yang di-burnmerupakan bagian dari token yang tidak diklaim dariairdropNOTyang baru saja selesai pada 16 Juni.Burnini mengurangi pasokan yang beredar, menciptakan kelangkaan dan berpotensi meningkatkan permintaan.Distribusi Token yang Tidak Diklaim dan Pengembangan Masa DepanCryptopolitanmelaporkan bahwa, pengguna mengklaim lebih dari 90 persen dari total pasokan token selamaairdrop.Sekitar US$4,2 juta token yang tidak diklaim akan didistribusikan kepada pengguna Notcoin dilevelGold dan Platinum, sementara sisanya akan digunakan untuk proyek pengembangan di masa mendatang.Distribusi strategis ini bertujuan untuk memberi insentif kepada pengguna dilevelyang lebih tinggi dan mendukung upaya pengembangan yang sedang berlangsung.Burntoken adalah strategi umum di dunia kripto yang secara teoritis mengurangi pasokan yang beredar dan menciptakan kelangkaan. Hal ini dapat meningkatkan harga jika permintaan tetap kuat.Burntoken Notcoin baru-baru ini tampaknya memiliki efek ini, meskipun harga token mengalami volatilitas signifikan.Setelah turun 45 persen dari puncaknya di US$0,0289, harga token itu telah lebih dari dua kali lipat sejak Mei dan mencapai kapitalisasi pasar sebesar US$1,5 milyar.Langkah Strategis NotcoinPendiri Notcoin, Sasha Plotinov, baru-baru ini mengungkapkan rencana ambisius untuk mengembangkan Notcoin melampaui akartap-to-earn-nya.Dalam sebuah wawancara, Plotinov merinci strategi komprehensif empat tahun untuk menjadikan Notcoin sebagai pusat inovasi dalam ekosistem Telegram.Pusat dari strategi ini adalah pengembanganaplikasiNotcoin, yang saat ini sedang dalam proses. Itu keren, tapi kami baru saja memulai,” ungkap proyek tersebut dalam sebuah pesan di Telegram.Pesan ini mengisyaratkan perkembangan signifikan yang akan datang yang dapat mendorong pertumbuhan Notcoin lebih jauh dari statusnya saat ini.Ekosistem Kripto Telegram yang BerkembangKenaikan tersebut mencerminkan ekspansi ekosistem kripto Telegram. Dengan lebih dari 900 juta pengguna bulanan, Telegram telah memainkan peran penting dalam adopsi kriptomainstream, terutama melalui integrasinya dengan The Open Network (TON).Telegram secara tradisional menjadi tempat untuk fitur sepertitrading botdan baru-baru ini telah memadukanstablecoinUSDT, memperkenalkangameblockchain dan meluncurkan Telegram Stars, mata uang dalam aplikasi untuk pembelian.Integrasi ini telah memperkuat jaringan TON, meningkatkan reputasinya di antaraplatformkontrak pintar lainnya.Data terbaru dariplatformanalitik blockchain Artemis mengungkapkan bahwa TON untuk sementara waktu melampaui Ethereum dalam hal alamat aktif harian awal bulan ini, menyoroti tingkat aktivitasnya yang terus berkembang\"\"\"\n",
    "\n",
    "summary_manual = \"\"\"Notcoin, pengembang game tap-to-earn di Telegram, baru-baru ini membakar token NOT senilai US$3 juta, yang menyebabkan lonjakan harga token tersebut. Token yang dibakar merupakan bagian dari token yang tidak diklaim dari airdrop NOT yang selesai pada 16 Juni. Sekitar 90% dari total pasokan token telah diklaim, sementara sisanya akan didistribusikan kepada pengguna level Gold dan Platinum serta untuk pengembangan proyek masa depan. Pembakaran token ini diharapkan mengurangi pasokan yang beredar dan meningkatkan permintaan. Notcoin juga memiliki rencana ambisius untuk mengembangkan aplikasinya dan memperluas jangkauannya di ekosistem Telegram, dengan fokus pada peningkatan integrasi dan pengembangan aplikasi mining di Telegram. Dengan lebih dari 900 juta pengguna bulanan, Telegram semakin penting dalam adopsi kripto, terutama melalui integrasi dengan The Open Network (TON) yang baru-baru ini melampaui Ethereum dalam hal alamat aktif harian.\"\"\"\n",
    "\n",
    "# Create CountVectorizer to convert text to vectors\n",
    "vectorizer = CountVectorizer().fit_transform([summary_model, summary_manual])\n",
    "\n",
    "# Calculate cosine similarity between the two summaries\n",
    "cosine_sim = cosine_similarity(vectorizer[0], vectorizer[1])\n",
    "\n",
    "# Convert the similarity score to a percentage\n",
    "similarity_percentage = cosine_sim[0][0] * 100\n",
    "similarity_percentage"
   ]
  },
  {
   "cell_type": "code",
   "execution_count": null,
   "id": "fa4d75a0",
   "metadata": {},
   "outputs": [],
   "source": []
  }
 ],
 "metadata": {
  "kernelspec": {
   "display_name": "Python 3 (ipykernel)",
   "language": "python",
   "name": "python3"
  },
  "language_info": {
   "codemirror_mode": {
    "name": "ipython",
    "version": 3
   },
   "file_extension": ".py",
   "mimetype": "text/x-python",
   "name": "python",
   "nbconvert_exporter": "python",
   "pygments_lexer": "ipython3",
   "version": "3.9.7"
  }
 },
 "nbformat": 4,
 "nbformat_minor": 5
}
