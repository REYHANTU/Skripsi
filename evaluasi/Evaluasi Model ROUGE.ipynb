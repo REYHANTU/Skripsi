{
 "cells": [
  {
   "cell_type": "markdown",
   "id": "a47a4957",
   "metadata": {},
   "source": [
    "# ROUGE-N"
   ]
  },
  {
   "cell_type": "code",
   "execution_count": 45,
   "id": "fd821ccf",
   "metadata": {},
   "outputs": [
    {
     "name": "stdout",
     "output_type": "stream",
     "text": [
      "ROUGE Evaluation Results:\n",
      "\n",
      "ROUGE1 Scores:\n",
      "Precision: 0.2745\n",
      "Recall: 0.8487\n",
      "F1 Score: 0.4148\n",
      "\n",
      "ROUGE2 Scores:\n",
      "Precision: 0.1526\n",
      "Recall: 0.4746\n",
      "F1 Score: 0.2309\n",
      "\n"
     ]
    }
   ],
   "source": [
    "from rouge_score import rouge_scorer\n",
    "\n",
    "# Fungsi untuk menghitung ROUGE precision, recall, F1 score, dan akurasi\n",
    "def evaluate_rouge(model_summary, reference_summary):\n",
    "    # Menggunakan ROUGE-1 dan ROUGE-2 untuk evaluasi\n",
    "    scorer = rouge_scorer.RougeScorer(['rouge1', 'rouge2'], use_stemmer=True)\n",
    "    scores = scorer.score(reference_summary, model_summary)\n",
    "    \n",
    "    results = {}\n",
    "    for rouge_type in scores:\n",
    "        results[rouge_type] = { \n",
    "            'precision': scores[rouge_type].precision,\n",
    "            'recall': scores[rouge_type].recall,\n",
    "            'f1_score': scores[rouge_type].fmeasure\n",
    "        }\n",
    "    \n",
    "    # Menghitung akurasi berdasarkan kesamaan kata\n",
    "    model_tokens = set(model_summary.split())\n",
    "    reference_tokens = set(reference_summary.split())\n",
    "    common_tokens = model_tokens.intersection(reference_tokens)\n",
    "    accuracy = len(common_tokens) / len(reference_tokens) if reference_tokens else 0.0\n",
    "\n",
    "    results['accuracy'] = accuracy\n",
    "    \n",
    "    return results\n",
    "\n",
    "# Contoh ringkasan hasil model dan referensi manual\n",
    "model_summary = \"Hal ini menyebabkan lonjakan harga pada tokennya menjadi US$0,016 sebelum stabil di US$0,015 pada saat penulisan.Token yang di-burnmerupakan bagian dari token yang tidak diklaim dariairdropNOTyang baru saja selesai pada 16 Juni.Burnini mengurangi pasokan yang beredar, menciptakan kelangkaan dan berpotensi meningkatkan permintaan.Distribusi Token yang Tidak Diklaim dan Pengembangan Masa DepanCryptopolitanmelaporkan bahwa, pengguna mengklaim lebih dari 90 persen dari total pasokan token selamaairdrop.Sekitar US$4,2 juta token yang tidak diklaim akan didistribusikan kepada pengguna Notcoin dilevelGold dan Platinum, sementara sisanya akan digunakan untuk proyek pengembangan di masa mendatang.Distribusi strategis ini bertujuan untuk memberi insentif kepada pengguna dilevelyang lebih tinggi dan mendukung upaya pengembangan yang sedang berlangsung.Burntoken adalah strategi umum di dunia kripto yang secara teoritis mengurangi pasokan yang beredar dan menciptakan kelangkaan. Hal ini dapat meningkatkan harga jika permintaan tetap kuat.Burntoken Notcoin baru-baru ini tampaknya memiliki efek ini, meskipun harga token mengalami volatilitas signifikan.Setelah turun 45 persen dari puncaknya di US$0,0289, harga token itu telah lebih dari dua kali lipat sejak Mei dan mencapai kapitalisasi pasar sebesar US$1,5 milyar.Langkah Strategis NotcoinPendiri Notcoin, Sasha Plotinov, baru-baru ini mengungkapkan rencana ambisius untuk mengembangkan Notcoin melampaui akartap-to-earn-nya.Dalam sebuah wawancara, Plotinov merinci strategi komprehensif empat tahun untuk menjadikan Notcoin sebagai pusat inovasi dalam ekosistem Telegram.Pusat dari strategi ini adalah pengembanganaplikasiNotcoin, yang saat ini sedang dalam proses. Itu keren, tapi kami baru saja memulai,” ungkap proyek tersebut dalam sebuah pesan di Telegram.Pesan ini mengisyaratkan perkembangan signifikan yang akan datang yang dapat mendorong pertumbuhan Notcoin lebih jauh dari statusnya saat ini.Ekosistem Kripto Telegram yang BerkembangKenaikan tersebut mencerminkan ekspansi ekosistem kripto Telegram. Dengan lebih dari 900 juta pengguna bulanan, Telegram telah memainkan peran penting dalam adopsi kriptomainstream, terutama melalui integrasinya dengan The Open Network (TON).Telegram secara tradisional menjadi tempat untuk fitur sepertitrading botdan baru-baru ini telah memadukanstablecoinUSDT, memperkenalkangameblockchain dan meluncurkan Telegram Stars, mata uang dalam aplikasi untuk pembelian.Integrasi ini telah memperkuat jaringan TON, meningkatkan reputasinya di antaraplatformkontrak pintar lainnya.Data terbaru dariplatformanalitik blockchain Artemis mengungkapkan bahwa TON untuk sementara waktu melampaui Ethereum dalam hal alamat aktif harian awal bulan ini, menyoroti tingkat aktivitasnya yang terus berkembang\"\n",
    "reference_summary = \"Notcoin, pengembang game tap-to-earn di Telegram, baru-baru ini membakar token NOT senilai US$3 juta, yang menyebabkan lonjakan harga token menjadi US$0,016. Token yang dibakar berasal dari airdrop yang selesai pada 16 Juni, mengurangi pasokan yang beredar dan meningkatkan kelangkaan. Lebih dari 90 persen token yang didistribusikan selama airdrop telah diklaim, sementara sisanya akan digunakan untuk pengembangan masa depan.Pendiri Notcoin, Sasha Plotinov, mengungkapkan rencana ambisius untuk mengembangkan Notcoin menjadi pusat inovasi di ekosistem Telegram. Ini termasuk pengembangan aplikasi Notcoin yang sedang berlangsung. Telegram, dengan lebih dari 900 juta pengguna bulanan, semakin berperan dalam adopsi kripto, terutama dengan integrasi The Open Network (TON), yang baru-baru ini mengalahkan Ethereum dalam hal alamat aktif harian.\"\n",
    "\n",
    "# Menghitung nilai ROUGE dan akurasi\n",
    "rouge_scores = evaluate_rouge(model_summary, reference_summary)\n",
    "\n",
    "# Menampilkan hasil evaluasi untuk ROUGE-1, ROUGE-2, dan akurasi\n",
    "print(\"ROUGE Evaluation Results:\\n\")\n",
    "\n",
    "# ROUGE-1 Scores\n",
    "rouge_type = 'rouge1'\n",
    "metrics = rouge_scores[rouge_type]\n",
    "print(f\"{rouge_type.upper()} Scores:\")\n",
    "print(f\"Precision: {metrics['precision']:.4f}\")\n",
    "print(f\"Recall: {metrics['recall']:.4f}\")\n",
    "print(f\"F1 Score: {metrics['f1_score']:.4f}\\n\")\n",
    "\n",
    "# ROUGE-2 Scores\n",
    "rouge_type = 'rouge2'\n",
    "metrics = rouge_scores[rouge_type]\n",
    "print(f\"{rouge_type.upper()} Scores:\")\n",
    "print(f\"Precision: {metrics['precision']:.4f}\")\n",
    "print(f\"Recall: {metrics['recall']:.4f}\")\n",
    "print(f\"F1 Score: {metrics['f1_score']:.4f}\\n\")"
   ]
  },
  {
   "cell_type": "markdown",
   "id": "06365fdf",
   "metadata": {},
   "source": [
    "# ROUGE-L"
   ]
  },
  {
   "cell_type": "code",
   "execution_count": 46,
   "id": "c6157e65",
   "metadata": {},
   "outputs": [
    {
     "name": "stdout",
     "output_type": "stream",
     "text": [
      "ROUGE Evaluation Results:\n",
      "\n",
      "ROUGEL Scores:\n",
      "Precision: 0.2092\n",
      "Recall: 0.6471\n",
      "F1 Score: 0.3162\n",
      "\n"
     ]
    }
   ],
   "source": [
    "from rouge_score import rouge_scorer\n",
    "\n",
    "# Fungsi untuk menghitung ROUGE precision, recall, F1 score, dan akurasi\n",
    "def evaluate_rouge(model_summary, reference_summary):\n",
    "    # Menggunakan ROUGE-L untuk evaluasi\n",
    "    scorer = rouge_scorer.RougeScorer(['rougeL'], use_stemmer=True)\n",
    "    scores = scorer.score(reference_summary, model_summary)\n",
    "    \n",
    "    results = {}\n",
    "    for rouge_type in scores:\n",
    "        results[rouge_type] = { \n",
    "            'precision': scores[rouge_type].precision,\n",
    "            'recall': scores[rouge_type].recall,\n",
    "            'f1_score': scores[rouge_type].fmeasure\n",
    "        }\n",
    "    \n",
    "    # Menghitung akurasi berdasarkan kesamaan kata\n",
    "    model_tokens = set(model_summary.split())\n",
    "    reference_tokens = set(reference_summary.split())\n",
    "    common_tokens = model_tokens.intersection(reference_tokens)\n",
    "    accuracy = len(common_tokens) / len(reference_tokens) if reference_tokens else 0.0\n",
    "\n",
    "    results['accuracy'] = accuracy\n",
    "    \n",
    "    return results\n",
    "\n",
    "# Contoh ringkasan hasil model dan referensi manual\n",
    "model_summary = \"Hal ini menyebabkan lonjakan harga pada tokennya menjadi US$0,016 sebelum stabil di US$0,015 pada saat penulisan.Token yang di-burnmerupakan bagian dari token yang tidak diklaim dariairdropNOTyang baru saja selesai pada 16 Juni.Burnini mengurangi pasokan yang beredar, menciptakan kelangkaan dan berpotensi meningkatkan permintaan.Distribusi Token yang Tidak Diklaim dan Pengembangan Masa DepanCryptopolitanmelaporkan bahwa, pengguna mengklaim lebih dari 90 persen dari total pasokan token selamaairdrop.Sekitar US$4,2 juta token yang tidak diklaim akan didistribusikan kepada pengguna Notcoin dilevelGold dan Platinum, sementara sisanya akan digunakan untuk proyek pengembangan di masa mendatang.Distribusi strategis ini bertujuan untuk memberi insentif kepada pengguna dilevelyang lebih tinggi dan mendukung upaya pengembangan yang sedang berlangsung.Burntoken adalah strategi umum di dunia kripto yang secara teoritis mengurangi pasokan yang beredar dan menciptakan kelangkaan. Hal ini dapat meningkatkan harga jika permintaan tetap kuat.Burntoken Notcoin baru-baru ini tampaknya memiliki efek ini, meskipun harga token mengalami volatilitas signifikan.Setelah turun 45 persen dari puncaknya di US$0,0289, harga token itu telah lebih dari dua kali lipat sejak Mei dan mencapai kapitalisasi pasar sebesar US$1,5 milyar.Langkah Strategis NotcoinPendiri Notcoin, Sasha Plotinov, baru-baru ini mengungkapkan rencana ambisius untuk mengembangkan Notcoin melampaui akartap-to-earn-nya.Dalam sebuah wawancara, Plotinov merinci strategi komprehensif empat tahun untuk menjadikan Notcoin sebagai pusat inovasi dalam ekosistem Telegram.Pusat dari strategi ini adalah pengembanganaplikasiNotcoin, yang saat ini sedang dalam proses. Itu keren, tapi kami baru saja memulai,” ungkap proyek tersebut dalam sebuah pesan di Telegram.Pesan ini mengisyaratkan perkembangan signifikan yang akan datang yang dapat mendorong pertumbuhan Notcoin lebih jauh dari statusnya saat ini.Ekosistem Kripto Telegram yang BerkembangKenaikan tersebut mencerminkan ekspansi ekosistem kripto Telegram. Dengan lebih dari 900 juta pengguna bulanan, Telegram telah memainkan peran penting dalam adopsi kriptomainstream, terutama melalui integrasinya dengan The Open Network (TON).Telegram secara tradisional menjadi tempat untuk fitur sepertitrading botdan baru-baru ini telah memadukanstablecoinUSDT, memperkenalkangameblockchain dan meluncurkan Telegram Stars, mata uang dalam aplikasi untuk pembelian.Integrasi ini telah memperkuat jaringan TON, meningkatkan reputasinya di antaraplatformkontrak pintar lainnya.Data terbaru dariplatformanalitik blockchain Artemis mengungkapkan bahwa TON untuk sementara waktu melampaui Ethereum dalam hal alamat aktif harian awal bulan ini, menyoroti tingkat aktivitasnya yang terus berkembang\"\n",
    "reference_summary = \"Notcoin, pengembang game tap-to-earn di Telegram, baru-baru ini membakar token NOT senilai US$3 juta, yang menyebabkan lonjakan harga token menjadi US$0,016. Token yang dibakar berasal dari airdrop yang selesai pada 16 Juni, mengurangi pasokan yang beredar dan meningkatkan kelangkaan. Lebih dari 90 persen token yang didistribusikan selama airdrop telah diklaim, sementara sisanya akan digunakan untuk pengembangan masa depan.Pendiri Notcoin, Sasha Plotinov, mengungkapkan rencana ambisius untuk mengembangkan Notcoin menjadi pusat inovasi di ekosistem Telegram. Ini termasuk pengembangan aplikasi Notcoin yang sedang berlangsung. Telegram, dengan lebih dari 900 juta pengguna bulanan, semakin berperan dalam adopsi kripto, terutama dengan integrasi The Open Network (TON), yang baru-baru ini mengalahkan Ethereum dalam hal alamat aktif harian.\"\n",
    "\n",
    "# Menghitung nilai ROUGE dan akurasi\n",
    "rouge_scores = evaluate_rouge(model_summary, reference_summary)\n",
    "\n",
    "# Menampilkan hasil evaluasi untuk ROUGE-L dan akurasi\n",
    "print(\"ROUGE Evaluation Results:\\n\")\n",
    "\n",
    "# ROUGE-L Scores\n",
    "rouge_type = 'rougeL'\n",
    "metrics = rouge_scores[rouge_type]\n",
    "print(f\"{rouge_type.upper()} Scores:\")\n",
    "print(f\"Precision: {metrics['precision']:.4f}\")\n",
    "print(f\"Recall: {metrics['recall']:.4f}\")\n",
    "print(f\"F1 Score: {metrics['f1_score']:.4f}\\n\")"
   ]
  },
  {
   "cell_type": "markdown",
   "id": "09ba8260",
   "metadata": {},
   "source": [
    "# ROUGE-S"
   ]
  },
  {
   "cell_type": "code",
   "execution_count": 47,
   "id": "8b29e83f",
   "metadata": {},
   "outputs": [
    {
     "name": "stdout",
     "output_type": "stream",
     "text": [
      "ROUGE Evaluation Results:\n",
      "\n",
      "ROUGE1 Scores:\n",
      "Precision: 0.2745\n",
      "Recall: 0.8487\n",
      "F1 Score: 0.4148\n",
      "\n"
     ]
    }
   ],
   "source": [
    "from rouge_score import rouge_scorer\n",
    "\n",
    "# Fungsi untuk menghitung ROUGE precision, recall, F1 score, dan akurasi\n",
    "def evaluate_rouge(model_summary, reference_summary):\n",
    "    # Menggunakan ROUGE-1 untuk evaluasi\n",
    "    scorer = rouge_scorer.RougeScorer(['rouge1'], use_stemmer=True)\n",
    "    scores = scorer.score(reference_summary, model_summary)\n",
    "    \n",
    "    results = {}\n",
    "    for rouge_type in scores:\n",
    "        results[rouge_type] = { \n",
    "            'precision': scores[rouge_type].precision,\n",
    "            'recall': scores[rouge_type].recall,\n",
    "            'f1_score': scores[rouge_type].fmeasure\n",
    "        }\n",
    "    \n",
    "    # Menghitung akurasi berdasarkan kesamaan kata\n",
    "    model_tokens = set(model_summary.split())\n",
    "    reference_tokens = set(reference_summary.split())\n",
    "    common_tokens = model_tokens.intersection(reference_tokens)\n",
    "    accuracy = len(common_tokens) / len(reference_tokens) if reference_tokens else 0.0\n",
    "\n",
    "    results['accuracy'] = accuracy\n",
    "    \n",
    "    return results\n",
    "\n",
    "# Contoh ringkasan hasil model dan referensi manual\n",
    "model_summary = \"Hal ini menyebabkan lonjakan harga pada tokennya menjadi US$0,016 sebelum stabil di US$0,015 pada saat penulisan.Token yang di-burnmerupakan bagian dari token yang tidak diklaim dariairdropNOTyang baru saja selesai pada 16 Juni.Burnini mengurangi pasokan yang beredar, menciptakan kelangkaan dan berpotensi meningkatkan permintaan.Distribusi Token yang Tidak Diklaim dan Pengembangan Masa DepanCryptopolitanmelaporkan bahwa, pengguna mengklaim lebih dari 90 persen dari total pasokan token selamaairdrop.Sekitar US$4,2 juta token yang tidak diklaim akan didistribusikan kepada pengguna Notcoin dilevelGold dan Platinum, sementara sisanya akan digunakan untuk proyek pengembangan di masa mendatang.Distribusi strategis ini bertujuan untuk memberi insentif kepada pengguna dilevelyang lebih tinggi dan mendukung upaya pengembangan yang sedang berlangsung.Burntoken adalah strategi umum di dunia kripto yang secara teoritis mengurangi pasokan yang beredar dan menciptakan kelangkaan. Hal ini dapat meningkatkan harga jika permintaan tetap kuat.Burntoken Notcoin baru-baru ini tampaknya memiliki efek ini, meskipun harga token mengalami volatilitas signifikan.Setelah turun 45 persen dari puncaknya di US$0,0289, harga token itu telah lebih dari dua kali lipat sejak Mei dan mencapai kapitalisasi pasar sebesar US$1,5 milyar.Langkah Strategis NotcoinPendiri Notcoin, Sasha Plotinov, baru-baru ini mengungkapkan rencana ambisius untuk mengembangkan Notcoin melampaui akartap-to-earn-nya.Dalam sebuah wawancara, Plotinov merinci strategi komprehensif empat tahun untuk menjadikan Notcoin sebagai pusat inovasi dalam ekosistem Telegram.Pusat dari strategi ini adalah pengembanganaplikasiNotcoin, yang saat ini sedang dalam proses. Itu keren, tapi kami baru saja memulai,” ungkap proyek tersebut dalam sebuah pesan di Telegram.Pesan ini mengisyaratkan perkembangan signifikan yang akan datang yang dapat mendorong pertumbuhan Notcoin lebih jauh dari statusnya saat ini.Ekosistem Kripto Telegram yang BerkembangKenaikan tersebut mencerminkan ekspansi ekosistem kripto Telegram. Dengan lebih dari 900 juta pengguna bulanan, Telegram telah memainkan peran penting dalam adopsi kriptomainstream, terutama melalui integrasinya dengan The Open Network (TON).Telegram secara tradisional menjadi tempat untuk fitur sepertitrading botdan baru-baru ini telah memadukanstablecoinUSDT, memperkenalkangameblockchain dan meluncurkan Telegram Stars, mata uang dalam aplikasi untuk pembelian.Integrasi ini telah memperkuat jaringan TON, meningkatkan reputasinya di antaraplatformkontrak pintar lainnya.Data terbaru dariplatformanalitik blockchain Artemis mengungkapkan bahwa TON untuk sementara waktu melampaui Ethereum dalam hal alamat aktif harian awal bulan ini, menyoroti tingkat aktivitasnya yang terus berkembang\"\n",
    "reference_summary = \"Notcoin, pengembang game tap-to-earn di Telegram, baru-baru ini membakar token NOT senilai US$3 juta, yang menyebabkan lonjakan harga token menjadi US$0,016. Token yang dibakar berasal dari airdrop yang selesai pada 16 Juni, mengurangi pasokan yang beredar dan meningkatkan kelangkaan. Lebih dari 90 persen token yang didistribusikan selama airdrop telah diklaim, sementara sisanya akan digunakan untuk pengembangan masa depan.Pendiri Notcoin, Sasha Plotinov, mengungkapkan rencana ambisius untuk mengembangkan Notcoin menjadi pusat inovasi di ekosistem Telegram. Ini termasuk pengembangan aplikasi Notcoin yang sedang berlangsung. Telegram, dengan lebih dari 900 juta pengguna bulanan, semakin berperan dalam adopsi kripto, terutama dengan integrasi The Open Network (TON), yang baru-baru ini mengalahkan Ethereum dalam hal alamat aktif harian.\"\n",
    "\n",
    "# Menghitung nilai ROUGE dan akurasi\n",
    "rouge_scores = evaluate_rouge(model_summary, reference_summary)\n",
    "\n",
    "# Menampilkan hasil evaluasi untuk ROUGE-1 dan akurasi\n",
    "print(\"ROUGE Evaluation Results:\\n\")\n",
    "\n",
    "# ROUGE-1 Scores\n",
    "rouge_type = 'rouge1'\n",
    "metrics = rouge_scores[rouge_type]\n",
    "print(f\"{rouge_type.upper()} Scores:\")\n",
    "print(f\"Precision: {metrics['precision']:.4f}\")\n",
    "print(f\"Recall: {metrics['recall']:.4f}\")\n",
    "print(f\"F1 Score: {metrics['f1_score']:.4f}\\n\")"
   ]
  },
  {
   "cell_type": "code",
   "execution_count": 8,
   "id": "1b7dd17b",
   "metadata": {},
   "outputs": [
    {
     "data": {
      "text/plain": [
       "0.3436433333333333"
      ]
     },
     "execution_count": 8,
     "metadata": {},
     "output_type": "execute_result"
    }
   ],
   "source": [
    "# List of new values\n",
    "new_values = [\n",
    "    0.3146, 0.3704, 0.4038, 0.4071, 0.4257, 0.3669, 0.2530, 0.2583, 0.4190, 0.3023,\n",
    "    0.4138, 0.3804, 0.3836, 0.4568, 0.3229, 0.3241, 0.2063, 0.2816, 0.2704, 0.2512,\n",
    "    0.4417, 0.3652, 0.3166, 0.4439, 0.3088, 0.2937, 0.4407, 0.2167, 0.2550, 0.4148\n",
    "]\n",
    "\n",
    "# Calculate the average\n",
    "new_average_value = sum(new_values) / len(new_values)\n",
    "new_average_value"
   ]
  },
  {
   "cell_type": "code",
   "execution_count": null,
   "id": "d99884eb",
   "metadata": {},
   "outputs": [],
   "source": []
  }
 ],
 "metadata": {
  "kernelspec": {
   "display_name": "Python 3 (ipykernel)",
   "language": "python",
   "name": "python3"
  },
  "language_info": {
   "codemirror_mode": {
    "name": "ipython",
    "version": 3
   },
   "file_extension": ".py",
   "mimetype": "text/x-python",
   "name": "python",
   "nbconvert_exporter": "python",
   "pygments_lexer": "ipython3",
   "version": "3.9.7"
  }
 },
 "nbformat": 4,
 "nbformat_minor": 5
}
